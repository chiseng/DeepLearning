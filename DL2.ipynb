{
  "nbformat": 4,
  "nbformat_minor": 0,
  "metadata": {
    "colab": {
      "name": "DL2.ipynb",
      "provenance": [],
      "collapsed_sections": [],
      "authorship_tag": "ABX9TyMs0wNEOMao6tzaPXXAjfz/"
    },
    "kernelspec": {
      "name": "python3",
      "display_name": "Python 3"
    }
  },
  "cells": [
    {
      "cell_type": "markdown",
      "metadata": {
        "id": "1myQ3a9AFKjD",
        "colab_type": "text"
      },
      "source": [
        "# Homework 2"
      ]
    },
    {
      "cell_type": "code",
      "metadata": {
        "id": "aYQ5BsDHZNpt",
        "colab_type": "code",
        "colab": {}
      },
      "source": [
        "import torch\n",
        "import numpy as np\n",
        "import time"
      ],
      "execution_count": 0,
      "outputs": []
    },
    {
      "cell_type": "code",
      "metadata": {
        "id": "sJta8zxcZR6f",
        "colab_type": "code",
        "colab": {}
      },
      "source": [
        "N = 100\n",
        "P = 1000\n",
        "D = 2000\n",
        "X = np.random.rand(N,D) #100 x 2000\n",
        "T = np.random.rand(P,D) #1000 x 2000"
      ],
      "execution_count": 0,
      "outputs": []
    },
    {
      "cell_type": "code",
      "metadata": {
        "id": "JAFnY34u66Qv",
        "colab_type": "code",
        "outputId": "9192fd23-3e9a-42f8-e822-9891a7666ac9",
        "colab": {
          "base_uri": "https://localhost:8080/",
          "height": 105
        }
      },
      "source": [
        "def for_loop_rbf(X,T,gamma=1):\n",
        "    n = X.shape[0]\n",
        "    p = T.shape[0]\n",
        "    d = X.shape[1]\n",
        "\n",
        "    rbf = np.zeros(shape=(n,p))\n",
        "    start = time.time()\n",
        "    print(np.subtract(X[2,:],T[3,:]).shape)\n",
        "    for i in range(n):\n",
        "        for j in range(p):\n",
        "            numerator = np.sqrt(np.square(np.linalg.norm(np.subtract(X[i,:],T[j,:]))))\n",
        "            rbf[i,j] = np.exp(np.divide(numerator,-gamma))\n",
        "\n",
        "    stop = time.time()\n",
        "    total_time = stop - start\n",
        "\n",
        "    return rbf, round(total_time,1)\n",
        "rbf, tot_time = for_loop_rbf(X,T)\n",
        "\n",
        "print(\"Total time taken:\",tot_time,\"s\")\n",
        "print(rbf[:3,:3])"
      ],
      "execution_count": 0,
      "outputs": [
        {
          "output_type": "stream",
          "text": [
            "(2000,)\n",
            "Total time taken: 1.9 s\n",
            "[[1.79508954e-08 1.16139934e-08 1.51045089e-08]\n",
            " [1.05881158e-08 9.70006543e-09 8.51524263e-09]\n",
            " [1.59035420e-08 1.16770629e-08 1.34934173e-08]]\n"
          ],
          "name": "stdout"
        }
      ]
    },
    {
      "cell_type": "code",
      "metadata": {
        "id": "imUxOfR0JMHq",
        "colab_type": "code",
        "outputId": "1b81698e-2d82-41b7-cb65-b123a4b4fc06",
        "colab": {
          "base_uri": "https://localhost:8080/",
          "height": 87
        }
      },
      "source": [
        "def np_broadcast(X,T,gamma=1):\n",
        "    n = X.shape[0]\n",
        "    p = T.shape[0]\n",
        "    d = X.shape[1]\n",
        "\n",
        "    resized_x = np.reshape(X,(n,1,d))\n",
        "    resized_t = np.reshape(T,(1,p,d))\n",
        "    start = time.time()\n",
        "    intermediate = np.subtract(resized_x,resized_t)\n",
        "    intermediate = np.square(intermediate)\n",
        "    numerator = np.sum(intermediate,axis=-1)\n",
        "    rbf = np.exp(np.divide(numerator,-gamma))\n",
        "    stop = time.time()\n",
        "\n",
        "    total_time = stop - start\n",
        "\n",
        "    return rbf, total_time\n",
        "\n",
        "rbf, total_time = np_broadcast(X,T)\n",
        "\n",
        "print(\"Total time taken:\",total_time,\"s\")\n",
        "print(rbf[:3,:3])"
      ],
      "execution_count": 0,
      "outputs": [
        {
          "output_type": "stream",
          "text": [
            "Total time taken: 1.3437442779541016 s\n",
            "[[7.02713269e-139 1.04433746e-145 1.44284731e-141]\n",
            " [3.52768536e-147 1.40252922e-148 1.12641456e-150]\n",
            " [9.21250624e-141 1.27284850e-145 2.45153008e-143]]\n"
          ],
          "name": "stdout"
        }
      ]
    },
    {
      "cell_type": "code",
      "metadata": {
        "id": "Jm3oJ4zkRcon",
        "colab_type": "code",
        "outputId": "9fabe35f-4acf-4663-c63d-afcf71ecdfb3",
        "colab": {
          "base_uri": "https://localhost:8080/",
          "height": 87
        }
      },
      "source": [
        "def rbf_torch(X,T,gamma=1):\n",
        "    X = torch.from_numpy(X)\n",
        "    T = torch.from_numpy(T)\n",
        "    n = X.shape[0]\n",
        "    p = T.shape[0]\n",
        "    d = X.shape[1]\n",
        "\n",
        "    resized_x = torch.unsqueeze(X,dim=1)\n",
        "    resized_t = torch.unsqueeze(T,dim=0)\n",
        "\n",
        "    start = time.time()\n",
        "    intermediate = torch.add(resized_x,-resized_t)\n",
        "    intermediate = intermediate.pow(2)\n",
        "    summation = torch.sum(intermediate, axis=-1)\n",
        "    rbf = torch.exp(torch.div(summation,-gamma))\n",
        "    stop = time.time()\n",
        "    total_time = stop - start\n",
        "    return rbf,total_time\n",
        "\n",
        "rbf, total_time = rbf_torch(X,T)\n",
        "print(\"Total time taken:\",total_time,\"s\")\n",
        "print(rbf[:3,:3])"
      ],
      "execution_count": 0,
      "outputs": [
        {
          "output_type": "stream",
          "text": [
            "Total time taken: 1.812258243560791 s\n",
            "tensor([[7.0271e-139, 1.0443e-145, 1.4428e-141],\n",
            "        [3.5277e-147, 1.4025e-148, 1.1264e-150],\n",
            "        [9.2125e-141, 1.2728e-145, 2.4515e-143]], dtype=torch.float64)\n"
          ],
          "name": "stdout"
        }
      ]
    },
    {
      "cell_type": "code",
      "metadata": {
        "id": "1naxdeOFfTVe",
        "colab_type": "code",
        "colab": {}
      },
      "source": [
        "class k_means:\n",
        "    def __init__(self,P,M=50):\n",
        "        self.clusters = P\n",
        "        self.iterations = M\n",
        "        self.blob_data = 50\n",
        "        self.dim = 30\n",
        "        self.mu = [3,5,7,13,17]\n",
        "        self.var = 0.1\n",
        "        self.N = 100\n",
        "        self.D = 2000\n",
        "\n",
        "    def get_blobs(self):\n",
        "        blob_list = []\n",
        "        for i in range(5):\n",
        "            blob_list.append(np.random.normal(self.mu[i],self.var,(50,2)))\n",
        "        dataset = np.concatenate(blob_list)\n",
        "        return dataset\n",
        "    \n",
        "    def l2_squared(self,X,T):\n",
        "        \n",
        "        # do row-wise distance calculation\n",
        "        # resized_x = np.reshape(X,(n,1,d))\n",
        "        # resized_t = np.reshape(T,(1,p,d))\n",
        "        intermediate = np.subtract(X,T)\n",
        "        intermediate = np.square(intermediate)\n",
        "        distance = np.sum(intermediate,axis=-1)\n",
        "        return distance\n",
        "\n",
        "    def get_distance(self, data, cluster):\n",
        "        min_dist = np.zeros((250,self.clusters))\n",
        "        for i in range(self.clusters):\n",
        "            dist_matrix = self.l2_squared(data,cluster[i])\n",
        "            min_dist[:,i] = dist_matrix\n",
        "        # print(min_dist.shape)\n",
        "        return min_dist\n",
        "\n",
        "    def get_kmeans(self,data):\n",
        "        final_cluster = {}\n",
        "        cluster_init = [data[int(i*(250/self.clusters))] for i in range(self.clusters)]\n",
        "        min_dist = self.get_distance(data, cluster_init)\n",
        "        new_cluster = np.zeros((self.clusters,))\n",
        "        stabilised_count = 0\n",
        "        #calculate all the distances between the centroid and use argmin\n",
        "        for i in range(self.iterations):\n",
        "            cluster_assign = np.argmin(min_dist,axis=-1)\n",
        "            for i in range(self.clusters):\n",
        "                mask = (cluster_assign==i)\n",
        "                # print(type(data[mask]))\n",
        "                clustered = data[mask]\n",
        "                final_cluster[i] = data[mask]\n",
        "                if len(clustered) > 1:\n",
        "                    means = np.mean(clustered)\n",
        "                    if np.absolute(new_cluster[i] - means) < 1e-5:\n",
        "                        stabilised_count += 1\n",
        "                        if stabilised_count == self.clusters:\n",
        "                            return final_cluster\n",
        "                    new_cluster[i] = means\n",
        "            min_dist = self.get_distance(data, new_cluster)\n",
        "        return final_cluster\n",
        "    \n",
        "\n",
        "\n",
        "        "
      ],
      "execution_count": 0,
      "outputs": []
    },
    {
      "cell_type": "code",
      "metadata": {
        "id": "qJoRvu5vE-Wz",
        "colab_type": "code",
        "outputId": "8b26c603-c19f-43e4-8406-21fe3a6ce994",
        "colab": {
          "base_uri": "https://localhost:8080/",
          "height": 283
        }
      },
      "source": [
        "import matplotlib.pyplot as plt\n",
        "kmeans = k_means(2)\n",
        "blobs = kmeans.get_blobs()\n",
        "clustered = kmeans.get_kmeans(blobs)\n",
        "def dict_peek(dic):\n",
        "    for key,values in dic.items():\n",
        "        print(values[:3])\n",
        "\n",
        "for i in clustered.values():\n",
        "    plt.scatter(i[:,0], i[:,1])\n",
        "plt.xlabel(\"P value 2\")\n",
        "plt.show()\n"
      ],
      "execution_count": 0,
      "outputs": [
        {
          "output_type": "display_data",
          "data": {
            "image/png": "[encoded data removed]",
            "text/plain": [
              "<Figure size 432x288 with 1 Axes>"
            ]
          },
          "metadata": {
            "tags": []
          }
        }
      ]
    },
    {
      "cell_type": "code",
      "metadata": {
        "id": "OJvJ2AKuJ3qy",
        "colab_type": "code",
        "outputId": "296c19ca-4916-4aee-d91b-ac65aae6bb7b",
        "colab": {
          "base_uri": "https://localhost:8080/",
          "height": 283
        }
      },
      "source": [
        "kmeans = k_means(5)\n",
        "blobs = kmeans.get_blobs()\n",
        "clustered = kmeans.get_kmeans(blobs)\n",
        "for i in clustered.values():\n",
        "    plt.scatter(i[:,0], i[:,1])\n",
        "plt.xlabel(\"P size 5\")\n",
        "plt.show()"
      ],
      "execution_count": 0,
      "outputs": [
        {
          "output_type": "display_data",
          "data": {
            "image/png": "[encoded data removed]",
            "text/plain": [
              "<Figure size 432x288 with 1 Axes>"
            ]
          },
          "metadata": {
            "tags": []
          }
        }
      ]
    },
    {
      "cell_type": "code",
      "metadata": {
        "id": "KreUTHepK31n",
        "colab_type": "code",
        "outputId": "fa9b5064-6990-4b71-a0dd-f26912770d33",
        "colab": {
          "base_uri": "https://localhost:8080/",
          "height": 282
        }
      },
      "source": [
        "kmeans = k_means(8)\n",
        "blobs = kmeans.get_blobs()\n",
        "clustered = kmeans.get_kmeans(blobs)\n",
        "for i in clustered.values():\n",
        "    plt.scatter(i[:,0], i[:,1])\n",
        "plt.xlabel(\"P size 8\")\n",
        "plt.show()"
      ],
      "execution_count": 0,
      "outputs": [
        {
          "output_type": "display_data",
          "data": {
            "image/png": "[encoded data removed]",
            "text/plain": [
              "<Figure size 432x288 with 1 Axes>"
            ]
          },
          "metadata": {
            "tags": []
          }
        }
      ]
    },
    {
      "cell_type": "code",
      "metadata": {
        "id": "AG23_JtHrduU",
        "colab_type": "code",
        "colab": {}
      },
      "source": [
        ""
      ],
      "execution_count": 0,
      "outputs": []
    }
  ]
}